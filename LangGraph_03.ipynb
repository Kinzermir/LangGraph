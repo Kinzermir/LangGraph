{
  "nbformat": 4,
  "nbformat_minor": 0,
  "metadata": {
    "colab": {
      "provenance": []
    },
    "kernelspec": {
      "name": "python3",
      "display_name": "Python 3"
    },
    "language_info": {
      "name": "python"
    }
  },
  "cells": [
    {
      "cell_type": "markdown",
      "source": [
        "# Quick Start\n",
        "\n",
        "In this comprehensive quick start, we will build a support chatbot in LangGraph that can:\n",
        "\n",
        "- Answer common questions by searching the web\n",
        "- Maintain conversation state across calls\n",
        "- Route complex queries to a human for review\n",
        "- Use custom state to control its behavior\n",
        "- Rewind and explore alternative conversation paths\n",
        "\n",
        "We'll start with a basic chatbot and progressively add more sophisticated capabilities, introducing key LangGraph concepts along the way.\n",
        "\n",
        "## Setup\n",
        "\n",
        "First, install the required packages:\n"
      ],
      "metadata": {
        "id": "N1jyt22-JHYJ"
      }
    },
    {
      "cell_type": "code",
      "source": [
        "%%capture --no-stderr\n",
        "!pip install -U langgraph langsmith langchain_anthropic"
      ],
      "metadata": {
        "id": "eW1wrSWGKl-2"
      },
      "execution_count": null,
      "outputs": []
    },
    {
      "cell_type": "code",
      "source": [
        "%%capture --no-stderr\n",
        "!pip install --quiet -U  langchain_core langgraph\n",
        "!pip install -U -q langchain\n",
        "!pip install -U -q langchain_google_genai\n"
      ],
      "metadata": {
        "id": "mBqBmO8_U7vk"
      },
      "execution_count": null,
      "outputs": []
    },
    {
      "cell_type": "markdown",
      "source": [
        "\n",
        "Next, set your API keys:"
      ],
      "metadata": {
        "id": "Q6F5HDg_Lvgv"
      }
    },
    {
      "cell_type": "code",
      "source": [
        "import os\n",
        "from google.colab import userdata\n",
        "os.environ[\"LANGCHAIN_API_KEY\"] = userdata.get('LANGCHAIN_API_KEY')   # to get langchain_api_key go smith.langchain.com then in settings create api and past it in jupyter notebook\n",
        "os.environ[\"LANGCHAIN_TRACING_V2\"] = \"true\"\n",
        "os.environ[\"LANGCHAIN_PROJECT\"] = \"quickstart\"\n",
        "\n",
        "google_api_key = userdata.get('GEMINI_API_KEY')\n"
      ],
      "metadata": {
        "id": "V_rnz2W0Q6KV"
      },
      "execution_count": null,
      "outputs": []
    },
    {
      "cell_type": "code",
      "source": [
        "from langchain_google_genai import ChatGoogleGenerativeAI\n",
        "llm: ChatGoogleGenerativeAI = ChatGoogleGenerativeAI(model=\"gemini-1.5-flash\", max_retries =2, api_key=google_api_key)\n",
        "llm.invoke(\"greet me\")"
      ],
      "metadata": {
        "colab": {
          "base_uri": "https://localhost:8080/"
        },
        "id": "D841sc0mh3f9",
        "outputId": "25497709-7e50-410a-df5c-0fd7ed372468"
      },
      "execution_count": null,
      "outputs": [
        {
          "output_type": "execute_result",
          "data": {
            "text/plain": [
              "AIMessage(content='Hello there! How can I help you today? \\n', additional_kwargs={}, response_metadata={'prompt_feedback': {'block_reason': 0, 'safety_ratings': []}, 'finish_reason': 'STOP', 'safety_ratings': [{'category': 'HARM_CATEGORY_SEXUALLY_EXPLICIT', 'probability': 'NEGLIGIBLE', 'blocked': False}, {'category': 'HARM_CATEGORY_HATE_SPEECH', 'probability': 'NEGLIGIBLE', 'blocked': False}, {'category': 'HARM_CATEGORY_HARASSMENT', 'probability': 'NEGLIGIBLE', 'blocked': False}, {'category': 'HARM_CATEGORY_DANGEROUS_CONTENT', 'probability': 'NEGLIGIBLE', 'blocked': False}]}, id='run-f6c8a08d-ea3d-4cc5-a8bd-0c977d750612-0', usage_metadata={'input_tokens': 3, 'output_tokens': 11, 'total_tokens': 14, 'input_token_details': {'cache_read': 0}})"
            ]
          },
          "metadata": {},
          "execution_count": 4
        }
      ]
    },
    {
      "cell_type": "markdown",
      "source": [
        "## add_messages:\n",
        " add_messages function is likely responsible for appending new messages to the list of existing messages rather than replacing the list. So, each time you add a new message, it will be added to the current state without overwriting the existing messages."
      ],
      "metadata": {
        "id": "N9NHab4Ijkh6"
      }
    },
    {
      "cell_type": "code",
      "source": [
        "# the state will contain a messages list, and the add_messages function will handle how this list is updated.\n",
        "from typing import Annotated\n",
        "\n",
        "from typing_extensions import TypedDict\n",
        "\n",
        "from langgraph.graph import StateGraph, START, END\n",
        "from langgraph.graph.message import add_messages\n",
        "\n",
        "\n",
        "class State(TypedDict):\n",
        "    # Messages have the type \"list\". The `add_messages` function\n",
        "    # in the annotation defines how this state key should be updated\n",
        "    # (in this case, it appends messages to the list, rather than overwriting them)\n",
        "    messages: Annotated[list, add_messages]\n",
        "\n",
        "\n",
        "graph_builder = StateGraph(State)"
      ],
      "metadata": {
        "id": "zvt8TMK5j_cx"
      },
      "execution_count": null,
      "outputs": []
    },
    {
      "cell_type": "code",
      "source": [
        "def chatbot (state: State):\n",
        "  #       key                     list of AI messages\n",
        "  return {\"messages\" : [llm.invoke(state[\"messages\"])]}\n",
        "\n",
        "graph_builder.add_node(\"chatbot\",chatbot)\n",
        "\n"
      ],
      "metadata": {
        "colab": {
          "base_uri": "https://localhost:8080/"
        },
        "id": "DWehJm8dvQXa",
        "outputId": "ed8487c1-0255-438b-c4b7-5a4ce308ed4d"
      },
      "execution_count": null,
      "outputs": [
        {
          "output_type": "execute_result",
          "data": {
            "text/plain": [
              "<langgraph.graph.state.StateGraph at 0x790ff76c2470>"
            ]
          },
          "metadata": {},
          "execution_count": 6
        }
      ]
    },
    {
      "cell_type": "code",
      "source": [
        "# Add an edge to transition from the 'START' state to the 'chatbot' state\n",
        "graph_builder.add_edge(START, \"chatbot\")\n"
      ],
      "metadata": {
        "colab": {
          "base_uri": "https://localhost:8080/"
        },
        "id": "dLDVN9idxEJF",
        "outputId": "e682d1e3-53d4-4c3d-9bd1-b2f66ddde3a7"
      },
      "execution_count": null,
      "outputs": [
        {
          "output_type": "execute_result",
          "data": {
            "text/plain": [
              "<langgraph.graph.state.StateGraph at 0x790ff76c2470>"
            ]
          },
          "metadata": {},
          "execution_count": 7
        }
      ]
    },
    {
      "cell_type": "code",
      "source": [
        "from langgraph.graph import END\n",
        "\n",
        "# Now, we can work with the 'chatbot' state (e.g., add messages or handle logic)\n",
        "graph_builder.add_edge(\"chatbot\", END)  # Eventually, it can transition to 'END'"
      ],
      "metadata": {
        "colab": {
          "base_uri": "https://localhost:8080/"
        },
        "id": "jTiGd4oJyYwD",
        "outputId": "7948b35e-e4cd-402a-ccf8-68b4052e8cb6"
      },
      "execution_count": null,
      "outputs": [
        {
          "output_type": "execute_result",
          "data": {
            "text/plain": [
              "<langgraph.graph.state.StateGraph at 0x790ff76c2470>"
            ]
          },
          "metadata": {},
          "execution_count": 8
        }
      ]
    },
    {
      "cell_type": "code",
      "source": [
        "graph = graph_builder.compile()"
      ],
      "metadata": {
        "id": "SEzTYk8QxMMl"
      },
      "execution_count": null,
      "outputs": []
    },
    {
      "cell_type": "code",
      "source": [
        "from IPython.display import Image, display\n",
        "\n",
        "try:\n",
        "  display(Image(graph.get_graph().draw_mermaid_png()))\n",
        "except Exception:\n",
        "  # this requires some extra dependencies and is optional\n",
        "  pass"
      ],
      "metadata": {
        "colab": {
          "base_uri": "https://localhost:8080/",
          "height": 251
        },
        "id": "9NucY4zt1nD1",
        "outputId": "6a4cf8e7-df5f-4e8f-dbdd-02a64ac1bd8d"
      },
      "execution_count": null,
      "outputs": [
        {
          "output_type": "display_data",
          "data": {
            "image/jpeg": "[encoded data removed]",
            "text/plain": [
              "<IPython.core.display.Image object>"
            ]
          },
          "metadata": {}
        }
      ]
    },
    {
      "cell_type": "code",
      "source": [
        "# graph.stream() is likely a method that returns an iterable (like a generator or stream). It takes an argument, in this case, a dictionary {\"messages\": [(\"user\", \"Iam a software engineer\")]}\n",
        "# An event is expected to be a dictionary or object that can be accessed using methods like .values().\n",
        "for event in graph.stream({\"messages\": [(\"user\", \"Iam a software engineer\")]}):\n",
        "    print(event)\n",
        "    print(\"EVENT:\", list(event.values())[0][\"messages\"][-1].content)\n"
      ],
      "metadata": {
        "colab": {
          "base_uri": "https://localhost:8080/"
        },
        "id": "ftRxTwze9nTR",
        "outputId": "eb9b1b08-a533-4979-979f-9ef85346ca49"
      },
      "execution_count": null,
      "outputs": [
        {
          "output_type": "stream",
          "name": "stdout",
          "text": [
            "{'chatbot': {'messages': [AIMessage(content=\"That's great! I'm glad to hear you're a software engineer.  It's a fascinating and challenging field.  \\n\\nTo help me understand your needs better, could you tell me more about:\\n\\n* **What kind of software do you develop?** (web apps, mobile apps, games, etc.)\\n* **What programming languages do you use?** (Python, Java, C++, etc.)\\n* **What are you working on right now?** (a specific project, a new skill, etc.)\\n* **What are you interested in learning more about?** (new technologies, coding techniques, etc.)\\n\\nI'm here to help you in any way I can.  Whether you need help with coding, want to discuss industry trends, or just need someone to bounce ideas off of, I'm here for you. \\n\", additional_kwargs={}, response_metadata={'prompt_feedback': {'block_reason': 0, 'safety_ratings': []}, 'finish_reason': 'STOP', 'safety_ratings': [{'category': 'HARM_CATEGORY_SEXUALLY_EXPLICIT', 'probability': 'NEGLIGIBLE', 'blocked': False}, {'category': 'HARM_CATEGORY_HATE_SPEECH', 'probability': 'NEGLIGIBLE', 'blocked': False}, {'category': 'HARM_CATEGORY_HARASSMENT', 'probability': 'NEGLIGIBLE', 'blocked': False}, {'category': 'HARM_CATEGORY_DANGEROUS_CONTENT', 'probability': 'NEGLIGIBLE', 'blocked': False}]}, id='run-1fb6bb0f-8064-45ae-ad89-7899369d07cb-0', usage_metadata={'input_tokens': 5, 'output_tokens': 178, 'total_tokens': 183, 'input_token_details': {'cache_read': 0}})]}}\n",
            "EVENT: That's great! I'm glad to hear you're a software engineer.  It's a fascinating and challenging field.  \n",
            "\n",
            "To help me understand your needs better, could you tell me more about:\n",
            "\n",
            "* **What kind of software do you develop?** (web apps, mobile apps, games, etc.)\n",
            "* **What programming languages do you use?** (Python, Java, C++, etc.)\n",
            "* **What are you working on right now?** (a specific project, a new skill, etc.)\n",
            "* **What are you interested in learning more about?** (new technologies, coding techniques, etc.)\n",
            "\n",
            "I'm here to help you in any way I can.  Whether you need help with coding, want to discuss industry trends, or just need someone to bounce ideas off of, I'm here for you. \n",
            "\n"
          ]
        }
      ]
    },
    {
      "cell_type": "code",
      "source": [
        "def stream_graph_updates(user_input: str):\n",
        "  for event in graph.stream({\"messages\": [(\"user\", user_input)]}):\n",
        "      for value in event.values():\n",
        "        print(\"Assistant:\", value[\"messages\"][-1].content)\n"
      ],
      "metadata": {
        "id": "52d2xGOjfRB2"
      },
      "execution_count": null,
      "outputs": []
    },
    {
      "cell_type": "code",
      "source": [
        "while True:\n",
        "  try:\n",
        "    user_input = input(\"User: \")\n",
        "    if user_input.lower() in [\"quit\", \"exit\", \"q\"]:\n",
        "      print(\"Goodbye!\")\n",
        "      break\n",
        "    stream_graph_updates(user_input)\n",
        "  except:\n",
        "    user_input = \"What do you know about langGraph?\"\n",
        "    print(\"User:\" + user_input)\n",
        "    stream_graph_updates(user_input)\n",
        "    break\n",
        "    # Moreover you can go to smith.langchain.com & can check your conversational history in project under the name quickstart as we mentioned above."
      ],
      "metadata": {
        "colab": {
          "base_uri": "https://localhost:8080/"
        },
        "id": "n4-ap0Zjcce9",
        "outputId": "9a9881d1-eb74-40a4-af2a-509d2d372553"
      },
      "execution_count": null,
      "outputs": [
        {
          "output_type": "stream",
          "name": "stdout",
          "text": [
            "User: My name is Hanry\n",
            "Assistant: Nice to meet you, Hanry! Is there anything I can help you with today? \n",
            "\n",
            "User: My name please??\n",
            "Assistant: I do not have access to personal information like your name. I am an AI and do not have memory of past conversations. \n",
            "\n",
            "Could you please tell me your name? \n",
            "\n",
            "User: q\n",
            "Goodbye!\n"
          ]
        }
      ]
    },
    {
      "cell_type": "markdown",
      "source": [
        "## Part 2: Enhancing the Chatbot with Tools\n",
        "\n",
        "To handle queries our chatbot can't answer \"from memory,\" we'll integrate a web search tool. Our bot can use this tool to find relevant information and provide better responses.\n",
        "\n",
        "### Requirements\n",
        "\n",
        "Before we start, make sure you have the necessary packages installed and API keys set up:\n",
        "\n",
        "1. First, install the requirements to use the [Tavily Search Engine](https://www.tavily.com), and set your `TAVILY_API_KEY` by signing in.\n",
        "\n"
      ],
      "metadata": {
        "id": "jeWjWgmTkmvG"
      }
    },
    {
      "cell_type": "code",
      "source": [
        "%%capture --no-stderr\n",
        "%pip install -U tavily-python langchain_community"
      ],
      "metadata": {
        "id": "SSNl_qxHc122"
      },
      "execution_count": null,
      "outputs": []
    },
    {
      "cell_type": "code",
      "source": [
        "os.environ[\"TAVILY_API_KEY\"] = userdata.get(\"TAVILY_API_KEY\")"
      ],
      "metadata": {
        "id": "j9bWWJkSmvL0"
      },
      "execution_count": null,
      "outputs": []
    },
    {
      "cell_type": "markdown",
      "source": [
        "Next, define the tool:"
      ],
      "metadata": {
        "id": "zs2qhxNQmy3z"
      }
    },
    {
      "cell_type": "code",
      "source": [
        "from langchain_community.tools.tavily_search import TavilySearchResults\n",
        "tool = TavilySearchResults(max_results=2) # maximum of 2 results from your query\n",
        "tool.invoke(\"What is a node in langGraph\")"
      ],
      "metadata": {
        "colab": {
          "base_uri": "https://localhost:8080/"
        },
        "id": "6TwFST1om0EU",
        "outputId": "46b5675d-0389-4a85-bc8e-99a49fe75b70"
      },
      "execution_count": null,
      "outputs": [
        {
          "output_type": "execute_result",
          "data": {
            "text/plain": [
              "[{'url': 'https://medium.com/@cplog/introduction-to-langgraph-a-beginners-guide-14f9be027141',\n",
              "  'content': 'Nodes: Nodes are the building blocks of your LangGraph. Each node represents a function or a computation step. You define nodes to perform specific tasks, such as processing input, making'},\n",
              " {'url': 'https://www.datacamp.com/tutorial/langgraph-tutorial',\n",
              "  'content': \"In LangGraph, each node represents an LLM agent, and the edges are the communication channels between these agents. This structure allows for clear and manageable workflows, where each agent performs specific tasks and passes information to other agents as needed. State management. One of LangGraph's standout features is its automatic state\"}]"
            ]
          },
          "metadata": {},
          "execution_count": 18
        }
      ]
    },
    {
      "cell_type": "code",
      "source": [
        "tools = [tool] # When you have more than one tool, you can easily add them to this list."
      ],
      "metadata": {
        "id": "4Tepl2BdsnHc"
      },
      "execution_count": null,
      "outputs": []
    },
    {
      "cell_type": "markdown",
      "source": [
        "## Defining Our Graph with Tools\n",
        "\n",
        "Next, we'll start defining our graph. The following is all the same as in Part 1, except we have added `bind_tools` on our LLM. This lets the LLM know the correct JSON format to use if it wants to use our search engine.\n"
      ],
      "metadata": {
        "id": "Mmt_VX3mtliu"
      }
    },
    {
      "cell_type": "code",
      "source": [
        "# Modification: tell the LLM which tools it can call\n",
        "llm_with_tools = llm.bind_tools(tools)"
      ],
      "metadata": {
        "id": "zx9Sjv_Yu3Sf"
      },
      "execution_count": null,
      "outputs": []
    },
    {
      "cell_type": "code",
      "source": [
        "llm_with_tools"
      ],
      "metadata": {
        "colab": {
          "base_uri": "https://localhost:8080/"
        },
        "id": "IUjYXAaWu-x-",
        "outputId": "1b382584-ef9b-4588-eb08-f0b0e78f8a7e"
      },
      "execution_count": null,
      "outputs": [
        {
          "output_type": "execute_result",
          "data": {
            "text/plain": [
              "RunnableBinding(bound=ChatGoogleGenerativeAI(model='models/gemini-1.5-flash', google_api_key=SecretStr('**********'), max_retries=2, client=<google.ai.generativelanguage_v1beta.services.generative_service.client.GenerativeServiceClient object at 0x790fcad00e80>, default_metadata=()), kwargs={'tools': [{'type': 'function', 'function': {'name': 'tavily_search_results_json', 'description': 'A search engine optimized for comprehensive, accurate, and trusted results. Useful for when you need to answer questions about current events. Input should be a search query.', 'parameters': {'properties': {'query': {'description': 'search query to look up', 'type': 'string'}}, 'required': ['query'], 'type': 'object'}}}]}, config={}, config_factories=[])"
            ]
          },
          "metadata": {},
          "execution_count": 21
        }
      ]
    },
    {
      "cell_type": "code",
      "source": [
        "llm_with_tools.invoke(\"search pakistan and austrailia match schedule\")\n",
        "# As below mentioned the content is empty (content = ''), it means there is no response, and we need to automatically call the tool with the specified tool name and query."
      ],
      "metadata": {
        "colab": {
          "base_uri": "https://localhost:8080/"
        },
        "id": "WGbamI7HvQiW",
        "outputId": "2f1f4dd7-b078-4c96-ff2d-974d113dd18c"
      },
      "execution_count": null,
      "outputs": [
        {
          "output_type": "execute_result",
          "data": {
            "text/plain": [
              "AIMessage(content='', additional_kwargs={'function_call': {'name': 'tavily_search_results_json', 'arguments': '{\"query\": \"pakistan and austrailia match schedule\"}'}}, response_metadata={'prompt_feedback': {'block_reason': 0, 'safety_ratings': []}, 'finish_reason': 'STOP', 'safety_ratings': [{'category': 'HARM_CATEGORY_DANGEROUS_CONTENT', 'probability': 'NEGLIGIBLE', 'blocked': False}, {'category': 'HARM_CATEGORY_HATE_SPEECH', 'probability': 'NEGLIGIBLE', 'blocked': False}, {'category': 'HARM_CATEGORY_SEXUALLY_EXPLICIT', 'probability': 'NEGLIGIBLE', 'blocked': False}, {'category': 'HARM_CATEGORY_HARASSMENT', 'probability': 'NEGLIGIBLE', 'blocked': False}]}, id='run-58c8378c-f513-47a9-959a-ffc541e5cdac-0', tool_calls=[{'name': 'tavily_search_results_json', 'args': {'query': 'pakistan and austrailia match schedule'}, 'id': '2d289161-b98c-46dc-9243-d19fe8a83c76', 'type': 'tool_call'}], usage_metadata={'input_tokens': 82, 'output_tokens': 27, 'total_tokens': 109, 'input_token_details': {'cache_read': 0}})"
            ]
          },
          "metadata": {},
          "execution_count": 22
        }
      ]
    },
    {
      "cell_type": "code",
      "source": [
        "tools_by_name = {tool.name: tool for tool in tools}\n",
        "print(type(tools_by_name))\n",
        "print(tools_by_name)\n",
        "\n",
        "tools_by_name[\"tavily_search_results_json\"]\n",
        "\n",
        "llm_with_tools.invoke(\"search using tool and what polls say about winner 2024 presidential elections\")"
      ],
      "metadata": {
        "colab": {
          "base_uri": "https://localhost:8080/"
        },
        "id": "Zd8glm0CwiYo",
        "outputId": "6f5a53bb-d68d-4625-df91-6073ad4fe65e"
      },
      "execution_count": null,
      "outputs": [
        {
          "output_type": "stream",
          "name": "stdout",
          "text": [
            "<class 'dict'>\n",
            "{'tavily_search_results_json': TavilySearchResults(max_results=2, api_wrapper=TavilySearchAPIWrapper(tavily_api_key=SecretStr('**********')))}\n"
          ]
        },
        {
          "output_type": "execute_result",
          "data": {
            "text/plain": [
              "AIMessage(content='', additional_kwargs={'function_call': {'name': 'tavily_search_results_json', 'arguments': '{\"query\": \"what polls say about winner 2024 presidential elections\"}'}}, response_metadata={'prompt_feedback': {'block_reason': 0, 'safety_ratings': []}, 'finish_reason': 'STOP', 'safety_ratings': [{'category': 'HARM_CATEGORY_DANGEROUS_CONTENT', 'probability': 'NEGLIGIBLE', 'blocked': False}, {'category': 'HARM_CATEGORY_SEXUALLY_EXPLICIT', 'probability': 'NEGLIGIBLE', 'blocked': False}, {'category': 'HARM_CATEGORY_HATE_SPEECH', 'probability': 'NEGLIGIBLE', 'blocked': False}, {'category': 'HARM_CATEGORY_HARASSMENT', 'probability': 'NEGLIGIBLE', 'blocked': False}]}, id='run-f05132a2-9514-4ff4-a3fd-14fa951fab7e-0', tool_calls=[{'name': 'tavily_search_results_json', 'args': {'query': 'what polls say about winner 2024 presidential elections'}, 'id': '2efcfa05-ddc3-4f88-b8fa-ff075315c844', 'type': 'tool_call'}], usage_metadata={'input_tokens': 90, 'output_tokens': 31, 'total_tokens': 121, 'input_token_details': {'cache_read': 0}})"
            ]
          },
          "metadata": {},
          "execution_count": 23
        }
      ]
    },
    {
      "cell_type": "code",
      "source": [
        "tools_by_name = {tool.name: tool for tool in tools}\n",
        "print(type(tools_by_name))\n",
        "print(tools_by_name)"
      ],
      "metadata": {
        "colab": {
          "base_uri": "https://localhost:8080/"
        },
        "id": "D9RRC_9Ie76Z",
        "outputId": "5be90709-4408-412c-d5c7-8f54570ea211"
      },
      "execution_count": null,
      "outputs": [
        {
          "output_type": "stream",
          "name": "stdout",
          "text": [
            "<class 'dict'>\n",
            "{'tavily_search_results_json': TavilySearchResults(max_results=2, api_wrapper=TavilySearchAPIWrapper(tavily_api_key=SecretStr('**********')))}\n"
          ]
        }
      ]
    },
    {
      "cell_type": "code",
      "source": [
        "tools_by_name [\"tavily_search_results_json\"]\n"
      ],
      "metadata": {
        "colab": {
          "base_uri": "https://localhost:8080/"
        },
        "id": "yTMlvkDWem_P",
        "outputId": "1cf02bac-c2ae-4e56-a90c-8fdd0020078c"
      },
      "execution_count": null,
      "outputs": [
        {
          "output_type": "execute_result",
          "data": {
            "text/plain": [
              "TavilySearchResults(max_results=2, api_wrapper=TavilySearchAPIWrapper(tavily_api_key=SecretStr('**********')))"
            ]
          },
          "metadata": {},
          "execution_count": 25
        }
      ]
    },
    {
      "cell_type": "markdown",
      "source": [
        "## Strategy Explanation\n",
        "\n",
        "### 1. Define the Class\n",
        "First, we define a class (e.g., `BasicToolNode`) that will handle the logic for invoking tools. This class will receive a list of tools during initialization.\n",
        "\n",
        "### 2. Check for Messages\n",
        "After the class is defined, we will check whether the tools list contains any messages. Specifically, we will look for the `\"messages\"` key in the input data to ensure that there is something to process.\n",
        "\n",
        "### 3. Verify AI Message\n",
        "Once we confirm that messages are present, we check if the last message is an AI message. This is important because the tools should only be invoked in response to an AI-generated message, not user input or other types of messages.\n",
        "\n",
        "### 4. Check for Tool Calls\n",
        "If the message is indeed an AI message, the next step is to verify if the message contains any `tool_calls`. `tool_calls` represent the tools the AI message requests to invoke. If no tool calls are present, we should reject the request, as there’s nothing to process.\n",
        "\n",
        "### 5. Map and Call the Tool\n",
        "If `tool_calls` are present, we proceed by mapping each tool call to its corresponding tool. We search for the tool by name using the tool’s `name` attribute. If the tool is found, we call the tool’s `invoke()` method, passing the appropriate arguments.\n",
        "\n",
        "### 6. Return the Results\n",
        "After invoking the tool, we collect the results and return them. The results are typically wrapped in a response format, such as `ToolMessage`, that includes the tool’s output and relevant metadata (e.g., tool name, tool call ID).\n",
        "\n",
        "\n",
        "A list of tools is passed to the constructor. Each tool is expected to have a name attribute and an invoke() method.\n",
        "\n"
      ],
      "metadata": {
        "id": "OB3F8WxQ7Lmd"
      }
    },
    {
      "cell_type": "code",
      "source": [
        "import json\n",
        "\n",
        "from langchain_core.messages import ToolMessage\n",
        "\n",
        "\n",
        "class BasicToolNode:\n",
        "    \"\"\"A node that runs the tools requested in the last AIMessage.\"\"\"\n",
        "#   passing tools\n",
        "    def __init__(self, tools: list) -> None:       # The constructor creates a dictionary called tools_by_name where the key is the tool.name (a string), and the value is the actual tool object.\n",
        "        #                                 maping\n",
        "        self.tools_by_name = {tool.name: tool for tool in tools}\n",
        "\n",
        "    def __call__(self, inputs: dict):     # inputs is a dictionary that is expected to have a key called \"messages\", which is a list. If \"messages\" is not present, the function raises an error.\n",
        "        if messages := inputs.get(\"messages\", []):\n",
        "            message = messages[-1]\n",
        "        else:\n",
        "            raise ValueError(\"No message found in input\")\n",
        "        outputs = []    # each message can contain one or more tool_calls. Each tool_call has:\"name\": The name of the tool to invoke.\"args\": The arguments to pass to the tool.\"id\": A unique identifier for the tool call.\n",
        "        for tool_call in message.tool_calls:             # message.tool_callls meaning to get all the messages in tool such as name args and key. tool_calls=[{'name': 'tavily_search_results_json', 'args': {'query': 'pakistan and austrailia match schedule'}, 'id': 'e7291ddc-f321-43bd-b3b5-3cb496f745a3', 'type': 'tool_call'}]\n",
        "            tool_result = self.tools_by_name[tool_call[\"name\"]].invoke(\n",
        "                tool_call[\"args\"]\n",
        "            )\n",
        "            outputs.append(\n",
        "                ToolMessage(\n",
        "                    content=json.dumps(tool_result),   # content: The result of the tool call is converted to a JSON string.\n",
        "                    name=tool_call[\"name\"],  # name: The name of the tool that was invoked.\n",
        "                    tool_call_id=tool_call[\"id\"], # tool_call_id: The ID of the tool call, useful for tracking.\n",
        "                )\n",
        "            )\n",
        "        return {\"messages\": outputs}\n",
        "\n",
        "\n",
        "tool_node = BasicToolNode(tools=[tool])\n",
        "graph_builder.add_node(\"tools\", tool_node) # the tool node is added to the graph by using graph builder"
      ],
      "metadata": {
        "colab": {
          "base_uri": "https://localhost:8080/"
        },
        "id": "GBQuPeaS8Nhp",
        "outputId": "5f541261-e13f-4ff0-9922-1a59320a35f7"
      },
      "execution_count": null,
      "outputs": [
        {
          "output_type": "stream",
          "name": "stderr",
          "text": [
            "WARNING:langgraph.graph.state:Adding a node to a graph that has already been compiled. This will not be reflected in the compiled graph.\n"
          ]
        },
        {
          "output_type": "execute_result",
          "data": {
            "text/plain": [
              "<langgraph.graph.state.StateGraph at 0x790ff76c2470>"
            ]
          },
          "metadata": {},
          "execution_count": 26
        }
      ]
    },
    {
      "cell_type": "code",
      "source": [
        "from langchain_core.messages import HumanMessage, AIMessage\n",
        "\n",
        "messages = [\n",
        "      AIMessage(content='', additional_kwargs={'function_call': {'name': 'tavily_search_results_json', 'arguments': '{\"query\": \"polls about 2024 presidential elections\"}'}}, response_metadata={'prompt_feedback': {'block_reason': 0, 'safety_ratings': []}, 'finish_reason': 'STOP', 'safety_ratings': [{'category': 'HARM_CATEGORY_HARASSMENT', 'probability': 'NEGLIGIBLE', 'blocked': False}, {'category': 'HARM_CATEGORY_DANGEROUS_CONTENT', 'probability': 'NEGLIGIBLE', 'blocked': False}, {'category': 'HARM_CATEGORY_SEXUALLY_EXPLICIT', 'probability': 'NEGLIGIBLE', 'blocked': False}, {'category': 'HARM_CATEGORY_HATE_SPEECH', 'probability': 'NEGLIGIBLE', 'blocked': False}]}, id='run-6dfd11df-058d-438e-9f20-c24dd36e3bd0-0', tool_calls=[{'name': 'tavily_search_results_json', 'args': {'query': 'polls about 2024 presidential elections'}, 'id': '521fc765-89e4-486a-897a-772ec4a96980', 'type': 'tool_call'}], usage_metadata={'input_tokens': 90, 'output_tokens': 28, 'total_tokens': 118, 'input_token_details': {'cache_read': 0}})\n",
        "]\n",
        "tool_node(inputs={\"messages\": messages})\n",
        "\n"
      ],
      "metadata": {
        "colab": {
          "base_uri": "https://localhost:8080/"
        },
        "id": "PR7JwHeWV4LJ",
        "outputId": "4bb8b74f-7d05-48ca-f31b-a8f9c801d2e4"
      },
      "execution_count": null,
      "outputs": [
        {
          "output_type": "execute_result",
          "data": {
            "text/plain": [
              "{'messages': [ToolMessage(content='[{\"url\": \"https://projects.fivethirtyeight.com/2024-election-forecast/\", \"content\": \"With the 2024 presidential election a week away, 538\\'s Galen Druke and G. Elliott Morris discuss the relevancy of early voting data. October 29, 2024. The 2024 election could hinge on Pennsylvania. ... What the polls say about the 2024 election.\"}, {\"url\": \"https://today.yougov.com/elections/us/2024\", \"content\": \"Explore YouGov\\'s freely accessible data Discover our public data, featuring a diverse range of survey results, articles, trackers and popularity rankings. Get intelligence from our ever-growing source of consumer data on 27 million+ registered panel members in 55+ markets. Public Data Explore YouGov\\'s freely accessible dataFor Business Helping the world\\'s most recognised brands, media owners and agencies2024 Election Discover Key Insights on the U.S. Presidential Election 2024Sign in Sign up Explore YouGov\\'s freely accessible data Discover our public data, featuring a diverse range of survey results, articles, trackers and popularity rankings. Get intelligence from our ever-growing source of consumer data on 27 million+ registered panel members in 55+ markets. Consumer Health Data Privacy Policy\"}]', name='tavily_search_results_json', tool_call_id='521fc765-89e4-486a-897a-772ec4a96980')]}"
            ]
          },
          "metadata": {},
          "execution_count": 34
        }
      ]
    },
    {
      "cell_type": "markdown",
      "source": [
        "## Defining Conditional Edges\n",
        "\n",
        "With the tool node added, we can define the conditional edges.\n",
        "\n",
        "Recall that edges route the control flow from one node to the next. Conditional edges usually contain \"if\" statements to route to different nodes depending on the current graph state. These functions receive the current graph state and return a string or list of strings indicating which node(s) to call next.\n",
        "\n",
        "Below, we define a router function called `route_tools`, that checks for `tool_calls` in the chatbot's output. Provide this function to the graph by calling `add_conditional_edges`, which tells the graph that whenever the chatbot node completes to check this function to see where to go next.\n",
        "\n",
        "The condition will route to `tools` if tool calls are present and `END` if not.\n",
        "\n",
        "Later, we will replace this with the prebuilt `tools_condition` to be more concise, but implementing it ourselves first makes things more clear.\n"
      ],
      "metadata": {
        "id": "r_jNW8CoNbuB"
      }
    },
    {
      "cell_type": "markdown",
      "source": [
        "## Conditional Edges and Graph Flow\n",
        "\n",
        "Notice that conditional edges start from a single node. This tells the graph \"any time the `chatbot` node runs, either go to `tools` if it calls a tool, or end the loop if it responds directly.\"\n",
        "\n",
        "Like the prebuilt `tools_condition`, our function returns the `END` string if no tool calls are made. When the graph transitions to `END`, it has no more tasks to complete and ceases execution. Because the condition can return `END`, we don't need to explicitly set a `finish_point` this time. Our graph already has a way to finish!\n",
        "\n",
        "### Visualizing the Graph\n",
        "\n",
        "Let's visualize the graph we've built. The following function has some additional dependencies to run that are unimportant for this tutorial.\n"
      ],
      "metadata": {
        "id": "XRmeCrISN9CN"
      }
    },
    {
      "cell_type": "code",
      "source": [],
      "metadata": {
        "colab": {
          "base_uri": "https://localhost:8080/"
        },
        "id": "7l6VGSFSq-B-",
        "outputId": "27853626-503f-45d2-b43d-8ab1a07afcd2"
      },
      "execution_count": null,
      "outputs": [
        {
          "output_type": "execute_result",
          "data": {
            "text/plain": [
              "<langgraph.graph.state.StateGraph at 0x790fb97dd060>"
            ]
          },
          "metadata": {},
          "execution_count": 38
        }
      ]
    },
    {
      "cell_type": "code",
      "source": [
        "from typing import Literal\n",
        "\n",
        "\n",
        "def route_tools(\n",
        "    state: State,\n",
        "):\n",
        "    \"\"\"\n",
        "    Use in the conditional_edge to route to the ToolNode if the last message\n",
        "    has tool calls. Otherwise, route to the end.\n",
        "    \"\"\"\n",
        "    if isinstance(state, list):\n",
        "        ai_message = state[-1]\n",
        "    elif messages := state.get(\"messages\", []):\n",
        "        ai_message = messages[-1]\n",
        "    else:\n",
        "        raise ValueError(f\"No messages found in input state to tool_edge: {state}\")\n",
        "    if hasattr(ai_message, \"tool_calls\") and len(ai_message.tool_calls) > 0:\n",
        "        return \"tools\"\n",
        "    return END\n",
        "\n",
        "\n",
        "# The `tools_condition` function returns \"tools\" if the chatbot asks to use a tool, and \"END\" if\n",
        "# it is fine directly responding. This conditional routing defines the main agent loop.\n",
        "graph_builder.add_conditional_edges(\n",
        "    \"chatbot\",\n",
        "    route_tools,\n",
        "    # The following dictionary lets you tell the graph to interpret the condition's outputs as a specific node\n",
        "    # It defaults to the identity function, but if you\n",
        "    # want to use a node named something else apart from \"tools\",\n",
        "    # You can update the value of the dictionary to something else\n",
        "    # e.g., \"tools\": \"my_tools\"\n",
        "    {\"tools\": \"tools\", END: END},\n",
        ")\n",
        "# Any time a tool is called, we return to the chatbot to decide the next step\n",
        "graph_builder.add_edge(\"tools\", \"chatbot\")\n",
        "graph_builder.add_edge(START, \"chatbot\")\n",
        "graph = graph_builder.compile()\n"
      ],
      "metadata": {
        "colab": {
          "base_uri": "https://localhost:8080/",
          "height": 331
        },
        "id": "P4oX_SyCmuUT",
        "outputId": "ccb843f0-f526-481a-b07b-bbb0de2d7a51"
      },
      "execution_count": null,
      "outputs": [
        {
          "output_type": "error",
          "ename": "ValueError",
          "evalue": "Found edge starting at unknown node 'tools'",
          "traceback": [
            "\u001b[0;31m---------------------------------------------------------------------------\u001b[0m",
            "\u001b[0;31mValueError\u001b[0m                                Traceback (most recent call last)",
            "\u001b[0;32m<ipython-input-44-8ea3cf00b152>\u001b[0m in \u001b[0;36m<cell line: 37>\u001b[0;34m()\u001b[0m\n\u001b[1;32m     35\u001b[0m \u001b[0mgraph_builder\u001b[0m\u001b[0;34m.\u001b[0m\u001b[0madd_edge\u001b[0m\u001b[0;34m(\u001b[0m\u001b[0;34m\"tools\"\u001b[0m\u001b[0;34m,\u001b[0m \u001b[0;34m\"chatbot\"\u001b[0m\u001b[0;34m)\u001b[0m\u001b[0;34m\u001b[0m\u001b[0;34m\u001b[0m\u001b[0m\n\u001b[1;32m     36\u001b[0m \u001b[0mgraph_builder\u001b[0m\u001b[0;34m.\u001b[0m\u001b[0madd_edge\u001b[0m\u001b[0;34m(\u001b[0m\u001b[0mSTART\u001b[0m\u001b[0;34m,\u001b[0m \u001b[0;34m\"chatbot\"\u001b[0m\u001b[0;34m)\u001b[0m\u001b[0;34m\u001b[0m\u001b[0;34m\u001b[0m\u001b[0m\n\u001b[0;32m---> 37\u001b[0;31m \u001b[0mgraph\u001b[0m \u001b[0;34m=\u001b[0m \u001b[0mgraph_builder\u001b[0m\u001b[0;34m.\u001b[0m\u001b[0mcompile\u001b[0m\u001b[0;34m(\u001b[0m\u001b[0;34m)\u001b[0m\u001b[0;34m\u001b[0m\u001b[0;34m\u001b[0m\u001b[0m\n\u001b[0m",
            "\u001b[0;32m/usr/local/lib/python3.10/dist-packages/langgraph/graph/state.py\u001b[0m in \u001b[0;36mcompile\u001b[0;34m(self, checkpointer, store, interrupt_before, interrupt_after, debug)\u001b[0m\n\u001b[1;32m    446\u001b[0m \u001b[0;34m\u001b[0m\u001b[0m\n\u001b[1;32m    447\u001b[0m         \u001b[0;31m# validate the graph\u001b[0m\u001b[0;34m\u001b[0m\u001b[0;34m\u001b[0m\u001b[0m\n\u001b[0;32m--> 448\u001b[0;31m         self.validate(\n\u001b[0m\u001b[1;32m    449\u001b[0m             interrupt=(\n\u001b[1;32m    450\u001b[0m                 \u001b[0;34m(\u001b[0m\u001b[0minterrupt_before\u001b[0m \u001b[0;32mif\u001b[0m \u001b[0minterrupt_before\u001b[0m \u001b[0;34m!=\u001b[0m \u001b[0;34m\"*\"\u001b[0m \u001b[0;32melse\u001b[0m \u001b[0;34m[\u001b[0m\u001b[0;34m]\u001b[0m\u001b[0;34m)\u001b[0m \u001b[0;34m+\u001b[0m \u001b[0minterrupt_after\u001b[0m\u001b[0;34m\u001b[0m\u001b[0;34m\u001b[0m\u001b[0m\n",
            "\u001b[0;32m/usr/local/lib/python3.10/dist-packages/langgraph/graph/graph.py\u001b[0m in \u001b[0;36mvalidate\u001b[0;34m(self, interrupt)\u001b[0m\n\u001b[1;32m    373\u001b[0m         \u001b[0;32mfor\u001b[0m \u001b[0msource\u001b[0m \u001b[0;32min\u001b[0m \u001b[0mall_sources\u001b[0m\u001b[0;34m:\u001b[0m\u001b[0;34m\u001b[0m\u001b[0;34m\u001b[0m\u001b[0m\n\u001b[1;32m    374\u001b[0m             \u001b[0;32mif\u001b[0m \u001b[0msource\u001b[0m \u001b[0;32mnot\u001b[0m \u001b[0;32min\u001b[0m \u001b[0mself\u001b[0m\u001b[0;34m.\u001b[0m\u001b[0mnodes\u001b[0m \u001b[0;32mand\u001b[0m \u001b[0msource\u001b[0m \u001b[0;34m!=\u001b[0m \u001b[0mSTART\u001b[0m\u001b[0;34m:\u001b[0m\u001b[0;34m\u001b[0m\u001b[0;34m\u001b[0m\u001b[0m\n\u001b[0;32m--> 375\u001b[0;31m                 \u001b[0;32mraise\u001b[0m \u001b[0mValueError\u001b[0m\u001b[0;34m(\u001b[0m\u001b[0;34mf\"Found edge starting at unknown node '{source}'\"\u001b[0m\u001b[0;34m)\u001b[0m\u001b[0;34m\u001b[0m\u001b[0;34m\u001b[0m\u001b[0m\n\u001b[0m\u001b[1;32m    376\u001b[0m \u001b[0;34m\u001b[0m\u001b[0m\n\u001b[1;32m    377\u001b[0m         \u001b[0;31m# assemble targets\u001b[0m\u001b[0;34m\u001b[0m\u001b[0;34m\u001b[0m\u001b[0m\n",
            "\u001b[0;31mValueError\u001b[0m: Found edge starting at unknown node 'tools'"
          ]
        }
      ]
    },
    {
      "cell_type": "code",
      "source": [
        "from typing import Annotated\n",
        "\n",
        "from typing_extensions import TypedDict\n",
        "\n",
        "from langgraph.graph import StateGraph, START, END\n",
        "from langgraph.graph.message import add_messages\n",
        "\n",
        "tools_conditional = route_tools  # Define tools_conditional as an alias for route_tools\n",
        "\n",
        "class State(TypedDict):\n",
        "    messages: Annotated[list, add_messages]\n",
        "\n",
        "\n",
        "graph_builder = StateGraph(State)\n",
        "\n",
        "\n",
        "# Modification: tell the LLM which tools it can call\n",
        "llm_with_tools = llm.bind_tools(tools)\n",
        "\n",
        "\n",
        "def chatbot(state: State):\n",
        "    return {\"messages\": [llm_with_tools.invoke(state[\"messages\"])]}\n",
        "\n",
        "\n",
        "graph_builder.add_node(\"chatbot\", chatbot)\n",
        "tool_node = BasicToolNode(tools = [tool])\n",
        "graph_builder.add_node(\"tools\", tool_node)\n",
        "\n",
        "graph_builder.add_conditional_edges(\n",
        "    \"chatbot\",\n",
        "    tools_conditional,\n",
        "    {\"tools\": \"tools\", END: END},\n",
        ")\n",
        "\n",
        "graph_builder.add_edge(\"tools\", \"chatbot\")\n",
        "graph_builder.set_entry_point(\"chatbot\")\n",
        "graph = graph_builder.compile()"
      ],
      "metadata": {
        "id": "VqDjlZf2qiAB"
      },
      "execution_count": null,
      "outputs": []
    },
    {
      "cell_type": "code",
      "source": [
        "from IPython.display import Image, display\n",
        "\n",
        "try:\n",
        "    display(Image(graph.get_graph().draw_mermaid_png()))\n",
        "except Exception:\n",
        "    # This requires some extra dependencies and is optional\n",
        "    pass"
      ],
      "metadata": {
        "colab": {
          "base_uri": "https://localhost:8080/",
          "height": 266
        },
        "id": "mHtHZTouO_xa",
        "outputId": "63c97ce3-e3d6-431d-9a87-cb6f33cdc8b4"
      },
      "execution_count": null,
      "outputs": [
        {
          "output_type": "display_data",
          "data": {
            "image/jpeg": "[encoded data removed]",
            "text/plain": [
              "<IPython.core.display.Image object>"
            ]
          },
          "metadata": {}
        }
      ]
    },
    {
      "cell_type": "code",
      "source": [
        "while True:\n",
        "    try:\n",
        "        user_input = input(\"User: \")\n",
        "        if user_input.lower() in [\"quit\", \"exit\", \"q\"]:\n",
        "            print(\"Goodbye!\")\n",
        "            break\n",
        "\n",
        "        stream_graph_updates(user_input)\n",
        "    except:\n",
        "        # fallback if input() is not available\n",
        "        user_input = \"What do you know about LangGraph?\"\n",
        "        print(\"User: \" + user_input)\n",
        "        stream_graph_updates(user_input)\n",
        "        break"
      ],
      "metadata": {
        "colab": {
          "base_uri": "https://localhost:8080/"
        },
        "id": "34PiG1ZuPGWj",
        "outputId": "87ec9ef8-2871-4c39-d4dc-5ad560bec2d2"
      },
      "execution_count": null,
      "outputs": [
        {
          "output_type": "stream",
          "name": "stdout",
          "text": [
            "User: what is the whethear in pakistan \n",
            "Assistant: \n",
            "Assistant: [{\"url\": \"https://www.weatherapi.com/\", \"content\": \"{'location': {'name': 'Islamabad', 'region': 'Islamabad', 'country': 'Pakistan', 'lat': 33.7, 'lon': 73.167, 'tz_id': 'Asia/Karachi', 'localtime_epoch': 1731185658, 'localtime': '2024-11-10 01:54'}, 'current': {'last_updated_epoch': 1731185100, 'last_updated': '2024-11-10 01:45', 'temp_c': 18.5, 'temp_f': 65.3, 'is_day': 0, 'condition': {'text': 'Clear', 'icon': '//cdn.weatherapi.com/weather/64x64/night/113.png', 'code': 1000}, 'wind_mph': 6.3, 'wind_kph': 10.1, 'wind_degree': 50, 'wind_dir': 'NE', 'pressure_mb': 1015.0, 'pressure_in': 29.99, 'precip_mm': 0.0, 'precip_in': 0.0, 'humidity': 43, 'cloud': 3, 'feelslike_c': 18.5, 'feelslike_f': 65.3, 'windchill_c': 18.5, 'windchill_f': 65.3, 'heatindex_c': 18.5, 'heatindex_f': 65.3, 'dewpoint_c': 5.7, 'dewpoint_f': 42.3, 'vis_km': 10.0, 'vis_miles': 6.0, 'uv': 0.0, 'gust_mph': 13.2, 'gust_kph': 21.2}}\"}, {\"url\": \"https://nwfc.pmd.gov.pk/new/daily-forecast-en.php\", \"content\": \"Pakistan Meteorological Department. Friday, 08 November 2024; nwfc@pmd.gov.pk; 92-51-111 638 638; Home; ... Mainly dry weather is expected in most parts of the country, while cold in hilly areas. However, partly cloudy weather is likely in Gilgit-Baltistan. ... 09-11: 10-12: 10-12: Information updated daily at 1030 & 1730 PST .\"}]\n",
            "Assistant: The weather in Islamabad, Pakistan is currently clear with a temperature of 18.5 degrees Celsius. The wind is blowing from the northeast at 10.1 kilometers per hour. \n",
            "\n",
            "User: write hello world in python \n",
            "Assistant: ```python\n",
            "print(\"Hello, world!\")\n",
            "```\n",
            "User: exit \n",
            "Assistant: Okay, exiting. \n",
            "\n",
            "User: q\n",
            "Goodbye!\n"
          ]
        }
      ]
    },
    {
      "cell_type": "code",
      "source": [],
      "metadata": {
        "id": "KrQcKkEja_nw"
      },
      "execution_count": null,
      "outputs": []
    }
  ]
}